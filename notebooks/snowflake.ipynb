{
 "cells": [
  {
   "cell_type": "code",
   "execution_count": 1,
   "metadata": {},
   "outputs": [],
   "source": [
    "import snowflake.connector\n",
    "import pandas as pd\n",
    "from dotenv import load_dotenv\n",
    "import os\n",
    "\n",
    "# Charger les variables d'environnement\n",
    "load_dotenv()\n",
    "\n",
    "# Configuration Snowflake\n",
    "config = {\n",
    "    \"user\": os.getenv(\"SNOWFLAKE_USER\"),\n",
    "    \"password\": os.getenv(\"SNOWFLAKE_PASSWORD\"),\n",
    "    \"account\": os.getenv(\"SNOWFLAKE_ACCOUNT\"),\n",
    "    \"warehouse\": os.getenv(\"SNOWFLAKE_WAREHOUSE\"),\n",
    "    \"database\": os.getenv(\"SNOWFLAKE_DATABASE\"),\n",
    "    \"schema\": os.getenv(\"SNOWFLAKE_SCHEMA\"),\n",
    "}"
   ]
  },
  {
   "cell_type": "code",
   "execution_count": 2,
   "metadata": {},
   "outputs": [
    {
     "name": "stdout",
     "output_type": "stream",
     "text": [
      "\n",
      "📂 Base de données actuelle: RAW_DATA_INTERN\n",
      "📁 Schéma actuel: SILVER\n"
     ]
    }
   ],
   "source": [
    "conn = snowflake.connector.connect(**config)\n",
    "cursor = conn.cursor()\n",
    "cursor.execute(\"SELECT CURRENT_DATABASE(), CURRENT_SCHEMA()\")\n",
    "current_db, current_schema = cursor.fetchone()\n",
    "print(f\"\\n📂 Base de données actuelle: {current_db}\")\n",
    "print(f\"📁 Schéma actuel: {current_schema}\")"
   ]
  },
  {
   "cell_type": "code",
   "execution_count": 3,
   "metadata": {},
   "outputs": [
    {
     "data": {
      "text/plain": [
       "pandas.core.frame.DataFrame"
      ]
     },
     "execution_count": 3,
     "metadata": {},
     "output_type": "execute_result"
    }
   ],
   "source": [
    "def get_cursor():\n",
    "    conn = snowflake.connector.connect(**config)\n",
    "    cursor = conn.cursor()\n",
    "    return cursor\n",
    "\n",
    "\n",
    "def get_table(table_name=\"DEMO_SEG_CLIENT_ENRICHI_CAT\", limit=None):\n",
    "    if limit != None:\n",
    "        cursor.execute(f\"SELECT * FROM {table_name} LIMIT {limit}\")\n",
    "    else:\n",
    "        cursor.execute(f\"SELECT * FROM {table_name}\")\n",
    "    data = cursor.fetch_pandas_all()\n",
    "    return data   \n",
    "\n",
    "type(get_table())"
   ]
  },
  {
   "cell_type": "code",
   "execution_count": 18,
   "metadata": {},
   "outputs": [],
   "source": [
    "import numpy as np\n",
    "\n",
    "data = get_table()\n",
    "\n",
    "data = get_table()\n",
    "data.drop(['ID_H3','RF'], axis=1, inplace=True)\n",
    "data.replace({-1: np.nan}, inplace=True)\n",
    "\n",
    "data.isna().sum()\n",
    "\n",
    "data.fillna(data.mean(), inplace=True)"
   ]
  },
  {
   "cell_type": "code",
   "execution_count": 24,
   "metadata": {},
   "outputs": [
    {
     "data": {
      "text/plain": [
       "'{\\n  \"0\":{\\n    \"AGE\":50.0527331966,\\n    \"PANIER_MOY\":50.9135392784,\\n    \"RETAIL\":79.957916013,\\n    \"WEB\":20.042083987,\\n    \"RECENCE\":226.0529443707,\\n    \"CSP\":1.56452878,\\n    \"FEMME\":0.5028055991,\\n    \"PCT_C21_MEN_FAM_CAT\":2.9946301436,\\n    \"PCT_MEN_PROP_CAT\":3.8889216921,\\n    \"PCT_LOG_AV45_CAT\":1.8005439927,\\n    \"PCT_LOG_45_70_CAT\":1.6617149816,\\n    \"PCT_LOG_70_90_CAT\":2.0496266195,\\n    \"PCT_LOG_AP90_CAT\":2.7574869021,\\n    \"PCT_LOG_SOC_CAT\":1.194858357,\\n    \"REV_MED_CAT\":2.6117624582,\\n    \"INEG_REV_CAT\":3.0870871408,\\n    \"ETABLISSEMENTS_CAT\":2.0815608693\\n  },\\n  \"1\":{\\n    \"AGE\":45.8011995953,\\n    \"PANIER_MOY\":108.0484174014,\\n    \"RETAIL\":60.3264922677,\\n    \"WEB\":39.6735077323,\\n    \"RECENCE\":142.7976586212,\\n    \"CSP\":1.6690995809,\\n    \"FEMME\":0.5059257118,\\n    \"PCT_C21_MEN_FAM_CAT\":2.6749530279,\\n    \"PCT_MEN_PROP_CAT\":1.7914611162,\\n    \"PCT_LOG_AV45_CAT\":1.4062282209,\\n    \"PCT_LOG_45_70_CAT\":1.8197256864,\\n    \"PCT_LOG_70_90_CAT\":1.7427205029,\\n    \"PCT_LOG_AP90_CAT\":3.1992860039,\\n    \"PCT_LOG_SOC_CAT\":3.1673954152,\\n    \"REV_MED_CAT\":2.1701763189,\\n    \"INEG_REV_CAT\":3.1122664083,\\n    \"ETABLISSEMENTS_CAT\":2.6515780988\\n  },\\n  \"2\":{\\n    \"AGE\":40.2448798427,\\n    \"PANIER_MOY\":171.1383869127,\\n    \"RETAIL\":38.9230232706,\\n    \"WEB\":61.0769767294,\\n    \"RECENCE\":66.0382664384,\\n    \"CSP\":1.9050155348,\\n    \"FEMME\":0.5022192632,\\n    \"PCT_C21_MEN_FAM_CAT\":3.2072791833,\\n    \"PCT_MEN_PROP_CAT\":4.0800503616,\\n    \"PCT_LOG_AV45_CAT\":1.6023428988,\\n    \"PCT_LOG_45_70_CAT\":1.5594525592,\\n    \"PCT_LOG_70_90_CAT\":2.1991922131,\\n    \"PCT_LOG_AP90_CAT\":2.89861595,\\n    \"PCT_LOG_SOC_CAT\":1.1807659935,\\n    \"REV_MED_CAT\":2.7788707764,\\n    \"INEG_REV_CAT\":2.9085792896,\\n    \"ETABLISSEMENTS_CAT\":1.9242382768\\n  },\\n  \"3\":{\\n    \"AGE\":41.3133528946,\\n    \"PANIER_MOY\":182.5858134228,\\n    \"RETAIL\":41.1103814447,\\n    \"WEB\":58.8896185553,\\n    \"RECENCE\":70.1563504262,\\n    \"CSP\":2.8388058311,\\n    \"FEMME\":0.4921987797,\\n    \"PCT_C21_MEN_FAM_CAT\":2.8653532672,\\n    \"PCT_MEN_PROP_CAT\":3.5309740611,\\n    \"PCT_LOG_AV45_CAT\":2.4396285266,\\n    \"PCT_LOG_45_70_CAT\":1.9215593575,\\n    \"PCT_LOG_70_90_CAT\":1.6756491055,\\n    \"PCT_LOG_AP90_CAT\":2.2148850885,\\n    \"PCT_LOG_SOC_CAT\":1.3228715953,\\n    \"REV_MED_CAT\":4.0491577692,\\n    \"INEG_REV_CAT\":4.548536346,\\n    \"ETABLISSEMENTS_CAT\":2.9547271892\\n  }\\n}'"
      ]
     },
     "execution_count": 24,
     "metadata": {},
     "output_type": "execute_result"
    }
   ],
   "source": [
    "## k-means clustering\n",
    "\n",
    "from sklearn.cluster import KMeans\n",
    "from sklearn.preprocessing import StandardScaler\n",
    "\n",
    "data = get_table()\n",
    "data.drop(['ID_H3','RF', 'ZONES_HAB_CAT', 'RESTAURANTS_CAT', 'COMMERCES_CAT','EDUCATION_CAT' ], axis=1, inplace=True)\n",
    "data.replace({-1: np.nan}, inplace=True)\n",
    "data.fillna(data.mean(), inplace=True)\n",
    "\n",
    "\n",
    "scaler = StandardScaler()\n",
    "scaled_data = scaler.fit_transform(data)\n",
    "\n",
    "kmeans = KMeans(n_clusters=4, random_state=42)  \n",
    "\n",
    "kmeans.fit(scaled_data)\n",
    "\n",
    "data['cluster'] = kmeans.labels_\n",
    "\n",
    "statistics_clusters_preview = data.groupby('cluster').mean().to_json(orient='index', indent=2)\n",
    "statistics_clusters_preview"
   ]
  },
  {
   "cell_type": "code",
   "execution_count": 25,
   "metadata": {},
   "outputs": [
    {
     "data": {
      "text/plain": [
       "array([[-1.00155122, -0.05962485,  1.16093459, -0.65975838,  0.65975838,\n",
       "        -0.88903598],\n",
       "       [-1.00155122,  0.06099389,  0.49745948,  0.04312832, -0.04312832,\n",
       "        -0.16836117],\n",
       "       [-1.00155122,  1.50841875, -0.77420115,  1.65563311, -1.65563311,\n",
       "         1.96321223],\n",
       "       ...,\n",
       "       [-1.00155122,  0.54346884,  0.02196899, -0.28764189,  0.28764189,\n",
       "        -0.32061641],\n",
       "       [-1.00155122,  0.18161263,  2.37730563, -1.81745413,  1.81745413,\n",
       "        -1.32550101],\n",
       "       [-1.00155122,  0.4228501 ,  0.81813912, -0.37033445,  0.37033445,\n",
       "        -1.26459891]], shape=(99999, 6))"
      ]
     },
     "execution_count": 25,
     "metadata": {},
     "output_type": "execute_result"
    }
   ],
   "source": [
    "scaled_data"
   ]
  },
  {
   "cell_type": "code",
   "execution_count": 24,
   "metadata": {},
   "outputs": [
    {
     "data": {
      "text/plain": [
       "array([1, 1, 2, ..., 1, 3, 1], shape=(99999,), dtype=int32)"
      ]
     },
     "execution_count": 24,
     "metadata": {},
     "output_type": "execute_result"
    }
   ],
   "source": [
    "kmeans.labels_"
   ]
  }
 ],
 "metadata": {
  "kernelspec": {
   "display_name": ".venv",
   "language": "python",
   "name": "python3"
  },
  "language_info": {
   "codemirror_mode": {
    "name": "ipython",
    "version": 3
   },
   "file_extension": ".py",
   "mimetype": "text/x-python",
   "name": "python",
   "nbconvert_exporter": "python",
   "pygments_lexer": "ipython3",
   "version": "3.12.10"
  }
 },
 "nbformat": 4,
 "nbformat_minor": 2
}
