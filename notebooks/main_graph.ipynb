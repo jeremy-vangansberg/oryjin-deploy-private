{
 "cells": [
  {
   "cell_type": "code",
   "execution_count": 1,
   "metadata": {},
   "outputs": [],
   "source": [
    "import operator\n",
    "from pydantic import BaseModel, Field\n",
    "from langgraph.graph import END, MessagesState, START, StateGraph\n",
    "from langchain_core.messages import HumanMessage, SystemMessage\n",
    "from langchain_mistralai import ChatMistralAI\n",
    "from IPython.display import Image, display\n",
    "\n",
    "from dotenv import load_dotenv\n",
    "\n",
    "load_dotenv()\n",
    "\n",
    "llm = ChatMistralAI(model=\"mistral-medium-latest\", temperature=0)"
   ]
  },
  {
   "cell_type": "code",
   "execution_count": 26,
   "metadata": {},
   "outputs": [],
   "source": [
    "from pydantic import BaseModel, Field\n",
    "from enum import Enum\n",
    "\n",
    "class Objective(str, Enum):\n",
    "    awareness = \"Notoriété\"\n",
    "    acquisition = \"Acquisition\"\n",
    "    sales = \"vente\"\n",
    "\n",
    "    def __str__(self):\n",
    "        return self.value\n",
    "\n",
    "class Media(str, Enum):\n",
    "    display = \"Display\"\n",
    "    video = \"Vidéo\"\n",
    "    social = \"Social\"\n",
    "\n",
    "    def __str__(self):\n",
    "        return self.value\n",
    "\n",
    "class Context(BaseModel):\n",
    "    end_target : str = Field(\n",
    "        description=\"Informations à propos de la cible de la campagne marketing\",\n",
    "    )\n",
    "    business_context : str = Field(\n",
    "        description=\"Informations à propos du contexte commercial de la campagne marketing (ex: secteur d'activité, taille de l'entreprise, etc.)\",\n",
    "    )\n",
    "    product_context : str = Field(\n",
    "        description=\"Informations à propos du contexte produit de la campagne marketing\",\n",
    "    )\n",
    "    \n",
    "class CampaignObjectives(BaseModel):\n",
    "    objectives : Objective\n",
    "    media : Media\n",
    "    context : Context\n",
    "    \n"
   ]
  },
  {
   "cell_type": "code",
   "execution_count": 27,
   "metadata": {},
   "outputs": [],
   "source": [
    "objectives_instructions = \"\"\"\n",
    "Tu es un expert en marketing digital.\n",
    "Tu dois collecter les objectifs de la campagne marketing.\n",
    "Tu dois collecter les médias utilisés pour la campagne marketing.\n",
    "Tu dois collecter les contextes de la campagne marketing.\n",
    "\"\"\""
   ]
  },
  {
   "cell_type": "code",
   "execution_count": 28,
   "metadata": {},
   "outputs": [],
   "source": [
    "class MyState(MessagesState):\n",
    "    objectives : CampaignObjectives = None\n",
    "\n",
    "\n",
    "def collect_campaign_objectives(state: MyState):\n",
    "    message = state[\"messages\"][0]\n",
    "    structured_llm = llm.with_structured_output(CampaignObjectives)\n",
    "    campaign_objectives =structured_llm.invoke([\n",
    "        SystemMessage(content=objectives_instructions),\n",
    "        message\n",
    "        ])\n",
    "\n",
    "    return {\n",
    "        \"objectives\": campaign_objectives\n",
    "        # \"messages\": [message]\n",
    "    }\n",
    "\n",
    "def collect_data(state: MyState):\n",
    "    pass\n",
    "\n",
    "def enrich_data(state: MyState):\n",
    "    pass\n",
    "\n",
    "def perform_clustering(state: MyState):\n",
    "    pass\n",
    "\n",
    "def generate_textual_personas(state: MyState):\n",
    "    pass\n",
    "\n",
    "def select_customer_segment(state: MyState):\n",
    "    pass\n",
    "\n",
    "def generate_visual_personas(state: MyState):\n",
    "    pass \n",
    "\n",
    "def summarize_dsp_mappings(state: MyState):\n",
    "    pass\n"
   ]
  },
  {
   "cell_type": "code",
   "execution_count": 29,
   "metadata": {},
   "outputs": [
    {
     "data": {
      "image/png": "[encoded data removed]",
      "text/plain": [
       "<IPython.core.display.Image object>"
      ]
     },
     "metadata": {},
     "output_type": "display_data"
    }
   ],
   "source": [
    "dsp = StateGraph(MyState)\n",
    "dsp.add_node(\"collect_campaign_objectives\", collect_campaign_objectives)\n",
    "# dsp.add_node(\"collect data\", collect_data)\n",
    "# dsp.add_node(\"enrich data\", enrich_data)\n",
    "# dsp.add_node(\"perform clustering\", perform_clustering)\n",
    "# dsp.add_node(\"generate textual personas\", generate_textual_personas)\n",
    "# dsp.add_node(\"select customer segment\", select_customer_segment)\n",
    "# dsp.add_node(\"generate visual personas\", generate_visual_personas)\n",
    "# dsp.add_node(\"mapping suggestions\", summarize_dsp_mappings)\n",
    "\n",
    "\n",
    "dsp.add_edge(START, \"collect_campaign_objectives\")\n",
    "# dsp.add_edge(\"collect_campaign_objectives\", \"collect data\")\n",
    "# dsp.add_edge(\"collect data\", \"enrich data\")\n",
    "# dsp.add_edge(\"enrich data\", \"perform clustering\")\n",
    "# dsp.add_edge(\"perform clustering\", \"generate textual personas\")\n",
    "# dsp.add_edge(\"generate textual personas\", \"select customer segment\")\n",
    "# dsp.add_edge(\"select customer segment\", \"generate visual personas\")\n",
    "# dsp.add_edge(\"generate visual personas\", \"mapping suggestions\")\n",
    "\n",
    "\n",
    "dsp.add_edge(\"collect_campaign_objectives\", END)\n",
    "\n",
    "graph = dsp.compile()\n",
    "# View\n",
    "display(Image(graph.get_graph().draw_mermaid_png()))"
   ]
  },
  {
   "cell_type": "code",
   "execution_count": 31,
   "metadata": {},
   "outputs": [
    {
     "name": "stdout",
     "output_type": "stream",
     "text": [
      "{'messages': [HumanMessage(content=\"\\nJe suis le directeur marketing d'un enseigne de distribution, équipement de la maison, grand public, je vends sur le web et en magasin.\\nOn est haut de gamme. Ma clientéle est CSP+.\\nJe veux faire une campagne de recrutement de nouveaux clients sur un produit moyen gamme de façon à recruter autant sur les CSP que les CSP+. Je souhaite définir les paramètres pour ma campagne display sur Pmax de google.\", additional_kwargs={}, response_metadata={}, id='037d2390-ff46-4cc7-a46f-87fa93104924')]}\n",
      "{'messages': [HumanMessage(content=\"\\nJe suis le directeur marketing d'un enseigne de distribution, équipement de la maison, grand public, je vends sur le web et en magasin.\\nOn est haut de gamme. Ma clientéle est CSP+.\\nJe veux faire une campagne de recrutement de nouveaux clients sur un produit moyen gamme de façon à recruter autant sur les CSP que les CSP+. Je souhaite définir les paramètres pour ma campagne display sur Pmax de google.\", additional_kwargs={}, response_metadata={}, id='037d2390-ff46-4cc7-a46f-87fa93104924')], 'objectives': CampaignObjectives(objectives=<Objective.acquisition: 'Acquisition'>, media=<Media.display: 'Display'>, context=Context(end_target='CSP et CSP+', business_context='Enseigne de distribution, équipement de la maison, grand public, vente sur le web et en magasin, haut de gamme', product_context='Produit moyen de gamme'))}\n"
     ]
    }
   ],
   "source": [
    "message = \"\"\"\n",
    "Je suis le directeur marketing d'un enseigne de distribution, équipement de la maison, grand public, je vends sur le web et en magasin.\n",
    "On est haut de gamme. Ma clientéle est CSP+.\n",
    "Je veux faire une campagne de recrutement de nouveaux clients sur un produit moyen gamme de façon à recruter autant sur les CSP que les CSP+. Je souhaite définir les paramètres pour ma campagne display sur Pmax de google.\"\"\"\n",
    "\n",
    "thread = {\"configurable\": {\"thread_id\": \"1\"}}\n",
    "\n",
    "for event in graph.stream({\"messages\" :message}, config=thread, stream_mode=\"values\"):\n",
    "    print(event)"
   ]
  },
  {
   "cell_type": "code",
   "execution_count": 32,
   "metadata": {},
   "outputs": [
    {
     "name": "stdout",
     "output_type": "stream",
     "text": [
      "=== ÉTAT FINAL ===\n",
      "\n",
      "Objectifs de campagne extraits:\n",
      "- Objectif: Acquisition\n",
      "- Média: Display\n",
      "- Contexte:\n",
      "  - Cible: CSP et CSP+\n",
      "  - Contexte business: Enseigne de distribution, équipement de la maison, grand public, vente sur le web et en magasin, haut de gamme\n",
      "  - Contexte produit: Produit moyen de gamme\n"
     ]
    }
   ],
   "source": [
    "print(\"=== ÉTAT FINAL ===\")\n",
    "for event in graph.stream({\"messages\": [HumanMessage(content=message)]}, config=thread, stream_mode=\"values\"):\n",
    "    if \"objectives\" in event and event[\"objectives\"]:\n",
    "        print(\"\\nObjectifs de campagne extraits:\")\n",
    "        print(f\"- Objectif: {event['objectives'].objectives}\")\n",
    "        print(f\"- Média: {event['objectives'].media}\")\n",
    "        print(f\"- Contexte:\")\n",
    "        print(f\"  - Cible: {event['objectives'].context.end_target}\")\n",
    "        print(f\"  - Contexte business: {event['objectives'].context.business_context}\")\n",
    "        print(f\"  - Contexte produit: {event['objectives'].context.product_context}\")"
   ]
  }
 ],
 "metadata": {
  "kernelspec": {
   "display_name": ".venv",
   "language": "python",
   "name": "python3"
  },
  "language_info": {
   "codemirror_mode": {
    "name": "ipython",
    "version": 3
   },
   "file_extension": ".py",
   "mimetype": "text/x-python",
   "name": "python",
   "nbconvert_exporter": "python",
   "pygments_lexer": "ipython3",
   "version": "3.12.8"
  }
 },
 "nbformat": 4,
 "nbformat_minor": 2
}
